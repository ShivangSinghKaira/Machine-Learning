{
 "cells": [
  {
   "cell_type": "code",
   "execution_count": 2,
   "metadata": {},
   "outputs": [],
   "source": [
    "import numpy as np\n",
    "import pandas as pd\n",
    "from sklearn.preprocessing import LabelEncoder\n",
    "from sklearn.model_selection import train_test_split\n",
    "from sklearn.tree import DecisionTreeClassifier"
   ]
  },
  {
   "cell_type": "code",
   "execution_count": 3,
   "metadata": {},
   "outputs": [],
   "source": [
    "data = pd.read_csv(\"Train.csv\")"
   ]
  },
  {
   "cell_type": "code",
   "execution_count": 4,
   "metadata": {},
   "outputs": [
    {
     "data": {
      "text/html": [
       "<div>\n",
       "<style scoped>\n",
       "    .dataframe tbody tr th:only-of-type {\n",
       "        vertical-align: middle;\n",
       "    }\n",
       "\n",
       "    .dataframe tbody tr th {\n",
       "        vertical-align: top;\n",
       "    }\n",
       "\n",
       "    .dataframe thead th {\n",
       "        text-align: right;\n",
       "    }\n",
       "</style>\n",
       "<table border=\"1\" class=\"dataframe\">\n",
       "  <thead>\n",
       "    <tr style=\"text-align: right;\">\n",
       "      <th></th>\n",
       "      <th>pclass</th>\n",
       "      <th>survived</th>\n",
       "      <th>name</th>\n",
       "      <th>sex</th>\n",
       "      <th>age</th>\n",
       "      <th>sibsp</th>\n",
       "      <th>parch</th>\n",
       "      <th>ticket</th>\n",
       "      <th>fare</th>\n",
       "      <th>cabin</th>\n",
       "      <th>embarked</th>\n",
       "      <th>boat</th>\n",
       "      <th>body</th>\n",
       "      <th>home.dest</th>\n",
       "    </tr>\n",
       "  </thead>\n",
       "  <tbody>\n",
       "    <tr>\n",
       "      <th>0</th>\n",
       "      <td>3.0</td>\n",
       "      <td>0.0</td>\n",
       "      <td>O'Donoghue, Ms. Bridget</td>\n",
       "      <td>female</td>\n",
       "      <td>NaN</td>\n",
       "      <td>0.0</td>\n",
       "      <td>0.0</td>\n",
       "      <td>364856</td>\n",
       "      <td>7.750</td>\n",
       "      <td>NaN</td>\n",
       "      <td>Q</td>\n",
       "      <td>NaN</td>\n",
       "      <td>NaN</td>\n",
       "      <td>NaN</td>\n",
       "    </tr>\n",
       "    <tr>\n",
       "      <th>1</th>\n",
       "      <td>2.0</td>\n",
       "      <td>0.0</td>\n",
       "      <td>Morley, Mr. Henry Samuel (\"Mr Henry Marshall\")</td>\n",
       "      <td>male</td>\n",
       "      <td>39.0</td>\n",
       "      <td>0.0</td>\n",
       "      <td>0.0</td>\n",
       "      <td>250655</td>\n",
       "      <td>26.000</td>\n",
       "      <td>NaN</td>\n",
       "      <td>S</td>\n",
       "      <td>NaN</td>\n",
       "      <td>NaN</td>\n",
       "      <td>NaN</td>\n",
       "    </tr>\n",
       "    <tr>\n",
       "      <th>2</th>\n",
       "      <td>2.0</td>\n",
       "      <td>1.0</td>\n",
       "      <td>Smith, Miss. Marion Elsie</td>\n",
       "      <td>female</td>\n",
       "      <td>40.0</td>\n",
       "      <td>0.0</td>\n",
       "      <td>0.0</td>\n",
       "      <td>31418</td>\n",
       "      <td>13.000</td>\n",
       "      <td>NaN</td>\n",
       "      <td>S</td>\n",
       "      <td>9</td>\n",
       "      <td>NaN</td>\n",
       "      <td>NaN</td>\n",
       "    </tr>\n",
       "    <tr>\n",
       "      <th>3</th>\n",
       "      <td>3.0</td>\n",
       "      <td>1.0</td>\n",
       "      <td>Goldsmith, Mrs. Frank John (Emily Alice Brown)</td>\n",
       "      <td>female</td>\n",
       "      <td>31.0</td>\n",
       "      <td>1.0</td>\n",
       "      <td>1.0</td>\n",
       "      <td>363291</td>\n",
       "      <td>20.525</td>\n",
       "      <td>NaN</td>\n",
       "      <td>S</td>\n",
       "      <td>C D</td>\n",
       "      <td>NaN</td>\n",
       "      <td>Strood, Kent, England Detroit, MI</td>\n",
       "    </tr>\n",
       "    <tr>\n",
       "      <th>4</th>\n",
       "      <td>3.0</td>\n",
       "      <td>1.0</td>\n",
       "      <td>McCoy, Miss. Agnes</td>\n",
       "      <td>female</td>\n",
       "      <td>NaN</td>\n",
       "      <td>2.0</td>\n",
       "      <td>0.0</td>\n",
       "      <td>367226</td>\n",
       "      <td>23.250</td>\n",
       "      <td>NaN</td>\n",
       "      <td>Q</td>\n",
       "      <td>16</td>\n",
       "      <td>NaN</td>\n",
       "      <td>NaN</td>\n",
       "    </tr>\n",
       "  </tbody>\n",
       "</table>\n",
       "</div>"
      ],
      "text/plain": [
       "   pclass  survived                                            name     sex  \\\n",
       "0     3.0       0.0                         O'Donoghue, Ms. Bridget  female   \n",
       "1     2.0       0.0  Morley, Mr. Henry Samuel (\"Mr Henry Marshall\")    male   \n",
       "2     2.0       1.0                       Smith, Miss. Marion Elsie  female   \n",
       "3     3.0       1.0  Goldsmith, Mrs. Frank John (Emily Alice Brown)  female   \n",
       "4     3.0       1.0                              McCoy, Miss. Agnes  female   \n",
       "\n",
       "    age  sibsp  parch  ticket    fare cabin embarked boat  body  \\\n",
       "0   NaN    0.0    0.0  364856   7.750   NaN        Q  NaN   NaN   \n",
       "1  39.0    0.0    0.0  250655  26.000   NaN        S  NaN   NaN   \n",
       "2  40.0    0.0    0.0   31418  13.000   NaN        S    9   NaN   \n",
       "3  31.0    1.0    1.0  363291  20.525   NaN        S  C D   NaN   \n",
       "4   NaN    2.0    0.0  367226  23.250   NaN        Q   16   NaN   \n",
       "\n",
       "                           home.dest  \n",
       "0                                NaN  \n",
       "1                                NaN  \n",
       "2                                NaN  \n",
       "3  Strood, Kent, England Detroit, MI  \n",
       "4                                NaN  "
      ]
     },
     "execution_count": 4,
     "metadata": {},
     "output_type": "execute_result"
    }
   ],
   "source": [
    "data.head()"
   ]
  },
  {
   "cell_type": "code",
   "execution_count": 5,
   "metadata": {},
   "outputs": [
    {
     "name": "stdout",
     "output_type": "stream",
     "text": [
      "<class 'pandas.core.frame.DataFrame'>\n",
      "RangeIndex: 1009 entries, 0 to 1008\n",
      "Data columns (total 14 columns):\n",
      "pclass       1009 non-null float64\n",
      "survived     1009 non-null float64\n",
      "name         1009 non-null object\n",
      "sex          1009 non-null object\n",
      "age          812 non-null float64\n",
      "sibsp        1009 non-null float64\n",
      "parch        1009 non-null float64\n",
      "ticket       1009 non-null object\n",
      "fare         1008 non-null float64\n",
      "cabin        229 non-null object\n",
      "embarked     1008 non-null object\n",
      "boat         374 non-null object\n",
      "body         98 non-null float64\n",
      "home.dest    582 non-null object\n",
      "dtypes: float64(7), object(7)\n",
      "memory usage: 110.4+ KB\n"
     ]
    }
   ],
   "source": [
    "data.info()"
   ]
  },
  {
   "cell_type": "code",
   "execution_count": 6,
   "metadata": {},
   "outputs": [],
   "source": [
    "data.age.fillna(np.mean(data.age), inplace = True)"
   ]
  },
  {
   "cell_type": "code",
   "execution_count": 7,
   "metadata": {},
   "outputs": [],
   "source": [
    "le = LabelEncoder()"
   ]
  },
  {
   "cell_type": "code",
   "execution_count": 8,
   "metadata": {},
   "outputs": [
    {
     "data": {
      "text/plain": [
       "LabelEncoder()"
      ]
     },
     "execution_count": 8,
     "metadata": {},
     "output_type": "execute_result"
    }
   ],
   "source": [
    "le.fit(data.sex)"
   ]
  },
  {
   "cell_type": "code",
   "execution_count": 9,
   "metadata": {},
   "outputs": [],
   "source": [
    "data[\"sex\"] = le.transform(data.sex)"
   ]
  },
  {
   "cell_type": "code",
   "execution_count": 10,
   "metadata": {},
   "outputs": [
    {
     "data": {
      "text/html": [
       "<div>\n",
       "<style scoped>\n",
       "    .dataframe tbody tr th:only-of-type {\n",
       "        vertical-align: middle;\n",
       "    }\n",
       "\n",
       "    .dataframe tbody tr th {\n",
       "        vertical-align: top;\n",
       "    }\n",
       "\n",
       "    .dataframe thead th {\n",
       "        text-align: right;\n",
       "    }\n",
       "</style>\n",
       "<table border=\"1\" class=\"dataframe\">\n",
       "  <thead>\n",
       "    <tr style=\"text-align: right;\">\n",
       "      <th></th>\n",
       "      <th>pclass</th>\n",
       "      <th>survived</th>\n",
       "      <th>name</th>\n",
       "      <th>sex</th>\n",
       "      <th>age</th>\n",
       "      <th>sibsp</th>\n",
       "      <th>parch</th>\n",
       "      <th>ticket</th>\n",
       "      <th>fare</th>\n",
       "      <th>cabin</th>\n",
       "      <th>embarked</th>\n",
       "      <th>boat</th>\n",
       "      <th>body</th>\n",
       "      <th>home.dest</th>\n",
       "    </tr>\n",
       "  </thead>\n",
       "  <tbody>\n",
       "    <tr>\n",
       "      <th>0</th>\n",
       "      <td>3.0</td>\n",
       "      <td>0.0</td>\n",
       "      <td>O'Donoghue, Ms. Bridget</td>\n",
       "      <td>0</td>\n",
       "      <td>29.838978</td>\n",
       "      <td>0.0</td>\n",
       "      <td>0.0</td>\n",
       "      <td>364856</td>\n",
       "      <td>7.750</td>\n",
       "      <td>NaN</td>\n",
       "      <td>Q</td>\n",
       "      <td>NaN</td>\n",
       "      <td>NaN</td>\n",
       "      <td>NaN</td>\n",
       "    </tr>\n",
       "    <tr>\n",
       "      <th>1</th>\n",
       "      <td>2.0</td>\n",
       "      <td>0.0</td>\n",
       "      <td>Morley, Mr. Henry Samuel (\"Mr Henry Marshall\")</td>\n",
       "      <td>1</td>\n",
       "      <td>39.000000</td>\n",
       "      <td>0.0</td>\n",
       "      <td>0.0</td>\n",
       "      <td>250655</td>\n",
       "      <td>26.000</td>\n",
       "      <td>NaN</td>\n",
       "      <td>S</td>\n",
       "      <td>NaN</td>\n",
       "      <td>NaN</td>\n",
       "      <td>NaN</td>\n",
       "    </tr>\n",
       "    <tr>\n",
       "      <th>2</th>\n",
       "      <td>2.0</td>\n",
       "      <td>1.0</td>\n",
       "      <td>Smith, Miss. Marion Elsie</td>\n",
       "      <td>0</td>\n",
       "      <td>40.000000</td>\n",
       "      <td>0.0</td>\n",
       "      <td>0.0</td>\n",
       "      <td>31418</td>\n",
       "      <td>13.000</td>\n",
       "      <td>NaN</td>\n",
       "      <td>S</td>\n",
       "      <td>9</td>\n",
       "      <td>NaN</td>\n",
       "      <td>NaN</td>\n",
       "    </tr>\n",
       "    <tr>\n",
       "      <th>3</th>\n",
       "      <td>3.0</td>\n",
       "      <td>1.0</td>\n",
       "      <td>Goldsmith, Mrs. Frank John (Emily Alice Brown)</td>\n",
       "      <td>0</td>\n",
       "      <td>31.000000</td>\n",
       "      <td>1.0</td>\n",
       "      <td>1.0</td>\n",
       "      <td>363291</td>\n",
       "      <td>20.525</td>\n",
       "      <td>NaN</td>\n",
       "      <td>S</td>\n",
       "      <td>C D</td>\n",
       "      <td>NaN</td>\n",
       "      <td>Strood, Kent, England Detroit, MI</td>\n",
       "    </tr>\n",
       "    <tr>\n",
       "      <th>4</th>\n",
       "      <td>3.0</td>\n",
       "      <td>1.0</td>\n",
       "      <td>McCoy, Miss. Agnes</td>\n",
       "      <td>0</td>\n",
       "      <td>29.838978</td>\n",
       "      <td>2.0</td>\n",
       "      <td>0.0</td>\n",
       "      <td>367226</td>\n",
       "      <td>23.250</td>\n",
       "      <td>NaN</td>\n",
       "      <td>Q</td>\n",
       "      <td>16</td>\n",
       "      <td>NaN</td>\n",
       "      <td>NaN</td>\n",
       "    </tr>\n",
       "  </tbody>\n",
       "</table>\n",
       "</div>"
      ],
      "text/plain": [
       "   pclass  survived                                            name  sex  \\\n",
       "0     3.0       0.0                         O'Donoghue, Ms. Bridget    0   \n",
       "1     2.0       0.0  Morley, Mr. Henry Samuel (\"Mr Henry Marshall\")    1   \n",
       "2     2.0       1.0                       Smith, Miss. Marion Elsie    0   \n",
       "3     3.0       1.0  Goldsmith, Mrs. Frank John (Emily Alice Brown)    0   \n",
       "4     3.0       1.0                              McCoy, Miss. Agnes    0   \n",
       "\n",
       "         age  sibsp  parch  ticket    fare cabin embarked boat  body  \\\n",
       "0  29.838978    0.0    0.0  364856   7.750   NaN        Q  NaN   NaN   \n",
       "1  39.000000    0.0    0.0  250655  26.000   NaN        S  NaN   NaN   \n",
       "2  40.000000    0.0    0.0   31418  13.000   NaN        S    9   NaN   \n",
       "3  31.000000    1.0    1.0  363291  20.525   NaN        S  C D   NaN   \n",
       "4  29.838978    2.0    0.0  367226  23.250   NaN        Q   16   NaN   \n",
       "\n",
       "                           home.dest  \n",
       "0                                NaN  \n",
       "1                                NaN  \n",
       "2                                NaN  \n",
       "3  Strood, Kent, England Detroit, MI  \n",
       "4                                NaN  "
      ]
     },
     "execution_count": 10,
     "metadata": {},
     "output_type": "execute_result"
    }
   ],
   "source": [
    "data.head()"
   ]
  },
  {
   "cell_type": "code",
   "execution_count": 11,
   "metadata": {},
   "outputs": [],
   "source": [
    "col = [\"pclass\" , \"sex\" , \"age\" , \"sibsp\" , \"parch\" ]"
   ]
  },
  {
   "cell_type": "code",
   "execution_count": 36,
   "metadata": {},
   "outputs": [],
   "source": [
    "X = data.loc[:,[\"pclass\" , \"sex\" , \"age\" , \"sibsp\" , \"parch\" ]]"
   ]
  },
  {
   "cell_type": "code",
   "execution_count": null,
   "metadata": {},
   "outputs": [],
   "source": []
  },
  {
   "cell_type": "code",
   "execution_count": 37,
   "metadata": {},
   "outputs": [],
   "source": [
    "col_2 =[\"survived\"]"
   ]
  },
  {
   "cell_type": "code",
   "execution_count": 38,
   "metadata": {},
   "outputs": [],
   "source": [
    "y = data[\"survived\"]"
   ]
  },
  {
   "cell_type": "code",
   "execution_count": 39,
   "metadata": {},
   "outputs": [],
   "source": [
    "def entropy(column):\n",
    "    vals , counts = np.unique(column , return_counts = True)\n",
    "    total = len(column)\n",
    "    acc = 0\n",
    "    for i in counts:\n",
    "        acc += (i/total) * np.log2(i/total)\n",
    "    return -acc"
   ]
  },
  {
   "cell_type": "code",
   "execution_count": 40,
   "metadata": {},
   "outputs": [
    {
     "data": {
      "text/plain": [
       "0.9570419991692567"
      ]
     },
     "execution_count": 40,
     "metadata": {},
     "output_type": "execute_result"
    }
   ],
   "source": [
    "entropy(y)"
   ]
  },
  {
   "cell_type": "code",
   "execution_count": 41,
   "metadata": {},
   "outputs": [],
   "source": [
    "def info_gain(X , y , label):\n",
    "    selected = np.mean(X[label])\n",
    "    y_left = y[X[label]<selected]\n",
    "    y_right = y[X[label]>= selected]\n",
    "    \n",
    "    if len(y_left) == 0 or len(y_right) == 0:\n",
    "        return -10000\n",
    "    left = (len(y_left)/len(y)) * entropy(y_left)\n",
    "    right = (len(y_right)/len(y)) * entropy(y_right)\n",
    "    \n",
    "    return entropy(y)-left-right"
   ]
  },
  {
   "cell_type": "code",
   "execution_count": 42,
   "metadata": {},
   "outputs": [
    {
     "name": "stdout",
     "output_type": "stream",
     "text": [
      "('pclass', 0.055456910002982474)\n",
      "('sex', 0.19274737190850932)\n",
      "('age', 0.0010525742338488575)\n",
      "('sibsp', 0.006492394392888956)\n",
      "('parch', 0.019756080122948216)\n"
     ]
    }
   ],
   "source": [
    "for label in X.columns:\n",
    "    print((label,info_gain(X , y , label)))"
   ]
  },
  {
   "cell_type": "code",
   "execution_count": 43,
   "metadata": {},
   "outputs": [],
   "source": [
    "class Node:\n",
    "    def __init__(self, label = None , value = None , result = None):\n",
    "        self.label = label\n",
    "        self.value = value\n",
    "        self.result = result"
   ]
  },
  {
   "cell_type": "code",
   "execution_count": 44,
   "metadata": {},
   "outputs": [],
   "source": [
    "class CustomDecisionTree:\n",
    "    def __init__(self , max_depth = 5):\n",
    "        self.max_depth = max_depth\n",
    "        \n",
    "    def fit(self, X,y):\n",
    "        \n",
    "        self.root = self.generate(X , y , self.max_depth)\n",
    "        \n",
    "    def generate(self, X , y , depth):\n",
    "        \n",
    "        if depth == 1:\n",
    "            return Node(result = np.mean(y))\n",
    "        gain = []\n",
    "        for label in X.columns:\n",
    "            gain.append((info_gain(X , y , label),label))\n",
    "                        \n",
    "        sel = max(gain)[1]\n",
    "                        \n",
    "        pivot = np.mean(X[sel])\n",
    "                        \n",
    "        left = X[sel]<pivot\n",
    "        right = X[sel]>= pivot\n",
    "        X_left, y_left = X[left], y[left]\n",
    "        X_right, y_right = X[right], y[right]\n",
    "        \n",
    "        node = Node(sel,pivot)\n",
    "        Node.left = self.generate(X_left , y_left , depth-1)\n",
    "        Node.right = self.generate(X_right , y_right , depth-1)\n",
    "    \n",
    "        return node\n",
    "    def predict(self , X ):\n",
    "        y=[]\n",
    "        for index , rows in X.iterrows():\n",
    "            res = int(self.predict_point(rows , self.root)>.5)\n",
    "        return np.array(y)\n",
    "    def predict_point(self , row , node):\n",
    "        if node.label == None:\n",
    "            return node.result\n",
    "        \n",
    "        if row[node.label] < node.value:\n",
    "            return self.predict_point(row, node.left)\n",
    "        else:\n",
    "            return self.predict_point(row, node.right)\n",
    "    def score(self,X,y):\n",
    "        yp = self.predict(X)\n",
    "        return np.sum(yp.values==y) /len(y)\n",
    "        "
   ]
  },
  {
   "cell_type": "code",
   "execution_count": 45,
   "metadata": {},
   "outputs": [],
   "source": [
    "model = CustomDecisionTree()"
   ]
  },
  {
   "cell_type": "code",
   "execution_count": 46,
   "metadata": {},
   "outputs": [],
   "source": [
    "model.fit(X,y)"
   ]
  },
  {
   "cell_type": "code",
   "execution_count": 47,
   "metadata": {},
   "outputs": [],
   "source": [
    "X_train, X_test, y_train, y_test = train_test_split(\n",
    "...     X, y, test_size=0.33, random_state=42)"
   ]
  },
  {
   "cell_type": "code",
   "execution_count": 32,
   "metadata": {},
   "outputs": [
    {
     "data": {
      "text/plain": [
       "[0,\n",
       " 0,\n",
       " 0,\n",
       " 0,\n",
       " 0,\n",
       " 0,\n",
       " 0,\n",
       " 0,\n",
       " 1,\n",
       " 1,\n",
       " 0,\n",
       " 0,\n",
       " 0,\n",
       " 1,\n",
       " 0,\n",
       " 0,\n",
       " 0,\n",
       " 0,\n",
       " 1,\n",
       " 0,\n",
       " 1,\n",
       " 1,\n",
       " 1,\n",
       " 0,\n",
       " 0,\n",
       " 0,\n",
       " 0,\n",
       " 1,\n",
       " 0,\n",
       " 1,\n",
       " 1,\n",
       " 0,\n",
       " 0,\n",
       " 0,\n",
       " 1,\n",
       " 1,\n",
       " 1,\n",
       " 0,\n",
       " 0,\n",
       " 0,\n",
       " 0,\n",
       " 1,\n",
       " 0,\n",
       " 0,\n",
       " 1,\n",
       " 0,\n",
       " 0,\n",
       " 0,\n",
       " 0,\n",
       " 0,\n",
       " 1,\n",
       " 0,\n",
       " 0,\n",
       " 0,\n",
       " 0,\n",
       " 1,\n",
       " 0,\n",
       " 0,\n",
       " 1,\n",
       " 1,\n",
       " 0,\n",
       " 1,\n",
       " 0,\n",
       " 0,\n",
       " 1,\n",
       " 0,\n",
       " 0,\n",
       " 0,\n",
       " 1,\n",
       " 1,\n",
       " 0,\n",
       " 1,\n",
       " 0,\n",
       " 0,\n",
       " 1,\n",
       " 1,\n",
       " 0,\n",
       " 0,\n",
       " 0,\n",
       " 0,\n",
       " 0,\n",
       " 0,\n",
       " 1,\n",
       " 0,\n",
       " 0,\n",
       " 1,\n",
       " 0,\n",
       " 1,\n",
       " 1,\n",
       " 0,\n",
       " 1,\n",
       " 0,\n",
       " 1,\n",
       " 1,\n",
       " 0,\n",
       " 0,\n",
       " 0,\n",
       " 1,\n",
       " 0,\n",
       " 0,\n",
       " 0,\n",
       " 1,\n",
       " 1,\n",
       " 1,\n",
       " 1,\n",
       " 0,\n",
       " 0,\n",
       " 1,\n",
       " 1,\n",
       " 1,\n",
       " 1,\n",
       " 0,\n",
       " 0,\n",
       " 1,\n",
       " 0,\n",
       " 0,\n",
       " 0,\n",
       " 0,\n",
       " 0,\n",
       " 0,\n",
       " 1,\n",
       " 0,\n",
       " 1,\n",
       " 0,\n",
       " 0,\n",
       " 0,\n",
       " 1,\n",
       " 1,\n",
       " 0,\n",
       " 0,\n",
       " 0,\n",
       " 1,\n",
       " 1,\n",
       " 0,\n",
       " 0,\n",
       " 0,\n",
       " 0,\n",
       " 1,\n",
       " 1,\n",
       " 0,\n",
       " 0,\n",
       " 0,\n",
       " 0,\n",
       " 0,\n",
       " 1,\n",
       " 0,\n",
       " 1,\n",
       " 0,\n",
       " 0,\n",
       " 1,\n",
       " 1,\n",
       " 0,\n",
       " 1,\n",
       " 0,\n",
       " 0,\n",
       " 1,\n",
       " 0,\n",
       " 1,\n",
       " 1,\n",
       " 0,\n",
       " 0,\n",
       " 0,\n",
       " 0,\n",
       " 1,\n",
       " 1,\n",
       " 0,\n",
       " 0,\n",
       " 0,\n",
       " 0,\n",
       " 1,\n",
       " 0,\n",
       " 1,\n",
       " 0,\n",
       " 1,\n",
       " 0,\n",
       " 0,\n",
       " 0,\n",
       " 0,\n",
       " 1,\n",
       " 1,\n",
       " 0,\n",
       " 0,\n",
       " 0,\n",
       " 0,\n",
       " 0,\n",
       " 1,\n",
       " 0,\n",
       " 0,\n",
       " 1,\n",
       " 1,\n",
       " 0,\n",
       " 0,\n",
       " 0,\n",
       " 0,\n",
       " 0,\n",
       " 1,\n",
       " 0,\n",
       " 1,\n",
       " 0,\n",
       " 0,\n",
       " 1,\n",
       " 0,\n",
       " 0,\n",
       " 1,\n",
       " 1,\n",
       " 0,\n",
       " 1,\n",
       " 1,\n",
       " 0,\n",
       " 1,\n",
       " 0,\n",
       " 0,\n",
       " 1,\n",
       " 0,\n",
       " 0,\n",
       " 0,\n",
       " 0,\n",
       " 0,\n",
       " 0,\n",
       " 0,\n",
       " 1,\n",
       " 0,\n",
       " 1,\n",
       " 0,\n",
       " 0,\n",
       " 1,\n",
       " 0,\n",
       " 1,\n",
       " 0,\n",
       " 0,\n",
       " 1,\n",
       " 0,\n",
       " 1,\n",
       " 0,\n",
       " 0,\n",
       " 0,\n",
       " 0,\n",
       " 0,\n",
       " 0,\n",
       " 0,\n",
       " 0,\n",
       " 0,\n",
       " 1,\n",
       " 1,\n",
       " 0,\n",
       " 1,\n",
       " 1,\n",
       " 0,\n",
       " 0,\n",
       " 0,\n",
       " 1,\n",
       " 1,\n",
       " 1,\n",
       " 0,\n",
       " 1,\n",
       " 0,\n",
       " 1,\n",
       " 0,\n",
       " 0,\n",
       " 0,\n",
       " 0,\n",
       " 0,\n",
       " 0,\n",
       " 0,\n",
       " 1,\n",
       " 0,\n",
       " 0,\n",
       " 0,\n",
       " 0,\n",
       " 1,\n",
       " 0,\n",
       " 1,\n",
       " 0,\n",
       " 1,\n",
       " 0,\n",
       " 0,\n",
       " 1,\n",
       " 0,\n",
       " 1,\n",
       " 0,\n",
       " 0,\n",
       " 1,\n",
       " 0,\n",
       " 1,\n",
       " 0,\n",
       " 0,\n",
       " 0,\n",
       " 0,\n",
       " 0,\n",
       " 0,\n",
       " 0,\n",
       " 0,\n",
       " 0,\n",
       " 0,\n",
       " 0,\n",
       " 0,\n",
       " 0,\n",
       " 1,\n",
       " 0,\n",
       " 1,\n",
       " 1,\n",
       " 0,\n",
       " 0,\n",
       " 0,\n",
       " 0,\n",
       " 1,\n",
       " 0,\n",
       " 0,\n",
       " 0,\n",
       " 1,\n",
       " 0,\n",
       " 1,\n",
       " 0,\n",
       " 1,\n",
       " 0,\n",
       " 1,\n",
       " 0,\n",
       " 1,\n",
       " 0,\n",
       " 1,\n",
       " 1,\n",
       " 0,\n",
       " 0,\n",
       " 1,\n",
       " 0,\n",
       " 0,\n",
       " 0,\n",
       " 1,\n",
       " 0,\n",
       " 0,\n",
       " 1,\n",
       " 1,\n",
       " 0]"
      ]
     },
     "execution_count": 32,
     "metadata": {},
     "output_type": "execute_result"
    }
   ],
   "source": [
    "model.predict(X_test)"
   ]
  },
  {
   "cell_type": "code",
   "execution_count": 77,
   "metadata": {},
   "outputs": [
    {
     "name": "stdout",
     "output_type": "stream",
     "text": [
      "<class 'pandas.core.frame.DataFrame'>\n",
      "RangeIndex: 300 entries, 0 to 299\n",
      "Data columns (total 13 columns):\n",
      "pclass       300 non-null float64\n",
      "name         300 non-null object\n",
      "sex          300 non-null object\n",
      "age          234 non-null float64\n",
      "sibsp        300 non-null float64\n",
      "parch        300 non-null float64\n",
      "ticket       300 non-null object\n",
      "fare         300 non-null float64\n",
      "cabin        66 non-null object\n",
      "embarked     299 non-null object\n",
      "boat         112 non-null object\n",
      "body         23 non-null float64\n",
      "home.dest    163 non-null object\n",
      "dtypes: float64(6), object(7)\n",
      "memory usage: 22.3+ KB\n"
     ]
    }
   ],
   "source": [
    "D.info()"
   ]
  },
  {
   "cell_type": "code",
   "execution_count": 78,
   "metadata": {},
   "outputs": [],
   "source": [
    "y1 = D.loc[:,[\"pclass\" , \"sex\" , \"age\" , \"sibsp\" , \"parch\" ]]"
   ]
  },
  {
   "cell_type": "code",
   "execution_count": 79,
   "metadata": {},
   "outputs": [],
   "source": [
    "y1[\"sex\"] = le.transform(y1.sex)"
   ]
  },
  {
   "cell_type": "code",
   "execution_count": 80,
   "metadata": {},
   "outputs": [],
   "source": [
    "y1.age.fillna(np.mean(y1.age), inplace = True) "
   ]
  },
  {
   "cell_type": "code",
   "execution_count": 135,
   "metadata": {},
   "outputs": [],
   "source": [
    "output = m1.predict(y1)"
   ]
  },
  {
   "cell_type": "code",
   "execution_count": null,
   "metadata": {},
   "outputs": [],
   "source": []
  },
  {
   "cell_type": "code",
   "execution_count": null,
   "metadata": {},
   "outputs": [],
   "source": []
  },
  {
   "cell_type": "code",
   "execution_count": null,
   "metadata": {},
   "outputs": [],
   "source": []
  },
  {
   "cell_type": "code",
   "execution_count": null,
   "metadata": {},
   "outputs": [],
   "source": []
  },
  {
   "cell_type": "code",
   "execution_count": 142,
   "metadata": {},
   "outputs": [],
   "source": [
    "from sklearn.ensemble import RandomForestClassifier"
   ]
  },
  {
   "cell_type": "code",
   "execution_count": 192,
   "metadata": {},
   "outputs": [],
   "source": [
    "m2 = RandomForestClassifier(max_depth=5)"
   ]
  },
  {
   "cell_type": "code",
   "execution_count": 193,
   "metadata": {},
   "outputs": [
    {
     "name": "stderr",
     "output_type": "stream",
     "text": [
      "c:\\users\\shivang\\appdata\\local\\programs\\python\\python37-32\\lib\\site-packages\\sklearn\\ensemble\\forest.py:245: FutureWarning: The default value of n_estimators will change from 10 in version 0.20 to 100 in 0.22.\n",
      "  \"10 in version 0.20 to 100 in 0.22.\", FutureWarning)\n"
     ]
    },
    {
     "data": {
      "text/plain": [
       "RandomForestClassifier(bootstrap=True, class_weight=None, criterion='gini',\n",
       "                       max_depth=5, max_features='auto', max_leaf_nodes=None,\n",
       "                       min_impurity_decrease=0.0, min_impurity_split=None,\n",
       "                       min_samples_leaf=1, min_samples_split=2,\n",
       "                       min_weight_fraction_leaf=0.0, n_estimators=10,\n",
       "                       n_jobs=None, oob_score=False, random_state=None,\n",
       "                       verbose=0, warm_start=False)"
      ]
     },
     "execution_count": 193,
     "metadata": {},
     "output_type": "execute_result"
    }
   ],
   "source": [
    "m2.fit(X , y)"
   ]
  },
  {
   "cell_type": "code",
   "execution_count": 194,
   "metadata": {},
   "outputs": [],
   "source": [
    "output2 = m2.predict(y1)"
   ]
  },
  {
   "cell_type": "code",
   "execution_count": 195,
   "metadata": {},
   "outputs": [],
   "source": [
    "output2 = {'Id': range(len(output2)),\n",
    "              'survived': output2}"
   ]
  },
  {
   "cell_type": "code",
   "execution_count": 196,
   "metadata": {},
   "outputs": [],
   "source": [
    "op2 = pd.DataFrame.from_dict(output2)"
   ]
  },
  {
   "cell_type": "code",
   "execution_count": 197,
   "metadata": {},
   "outputs": [],
   "source": [
    "op2.to_csv(\"foo2.csv\",index = False , index_label = \"Id\")"
   ]
  },
  {
   "cell_type": "code",
   "execution_count": 191,
   "metadata": {},
   "outputs": [],
   "source": [
    "m3 = RandomForestClassifier(max_depth=20)"
   ]
  },
  {
   "cell_type": "code",
   "execution_count": 182,
   "metadata": {},
   "outputs": [
    {
     "name": "stderr",
     "output_type": "stream",
     "text": [
      "c:\\users\\shivang\\appdata\\local\\programs\\python\\python37-32\\lib\\site-packages\\sklearn\\ensemble\\forest.py:245: FutureWarning: The default value of n_estimators will change from 10 in version 0.20 to 100 in 0.22.\n",
      "  \"10 in version 0.20 to 100 in 0.22.\", FutureWarning)\n"
     ]
    },
    {
     "data": {
      "text/plain": [
       "RandomForestClassifier(bootstrap=True, class_weight=None, criterion='gini',\n",
       "                       max_depth=20, max_features='auto', max_leaf_nodes=None,\n",
       "                       min_impurity_decrease=0.0, min_impurity_split=None,\n",
       "                       min_samples_leaf=1, min_samples_split=2,\n",
       "                       min_weight_fraction_leaf=0.0, n_estimators=10,\n",
       "                       n_jobs=None, oob_score=False, random_state=None,\n",
       "                       verbose=0, warm_start=False)"
      ]
     },
     "execution_count": 182,
     "metadata": {},
     "output_type": "execute_result"
    }
   ],
   "source": [
    "m3.fit(X_train,y_train)"
   ]
  },
  {
   "cell_type": "code",
   "execution_count": 183,
   "metadata": {
    "scrolled": true
   },
   "outputs": [
    {
     "data": {
      "text/plain": [
       "array([0., 0., 0., 0., 0., 0., 0., 0., 1., 1., 1., 0., 0., 0., 0., 0., 0.,\n",
       "       0., 1., 0., 1., 0., 1., 0., 0., 0., 0., 1., 0., 1., 1., 0., 0., 0.,\n",
       "       1., 1., 1., 0., 0., 0., 0., 1., 0., 0., 1., 0., 0., 0., 0., 0., 1.,\n",
       "       0., 0., 0., 0., 1., 0., 0., 1., 1., 0., 1., 0., 0., 1., 0., 0., 0.,\n",
       "       1., 1., 0., 1., 0., 0., 1., 1., 0., 0., 0., 0., 0., 0., 1., 0., 0.,\n",
       "       1., 0., 1., 1., 0., 1., 0., 1., 1., 0., 1., 0., 0., 0., 0., 0., 0.,\n",
       "       1., 1., 1., 0., 0., 0., 1., 1., 1., 0., 0., 1., 0., 0., 0., 0., 0.,\n",
       "       0., 1., 0., 1., 0., 0., 0., 1., 0., 0., 0., 0., 1., 1., 0., 0., 0.,\n",
       "       1., 1., 1., 0., 0., 0., 0., 0., 0., 0., 1., 0., 0., 1., 1., 1., 1.,\n",
       "       0., 0., 1., 0., 1., 0., 0., 0., 1., 0., 1., 1., 0., 0., 0., 0., 1.,\n",
       "       0., 0., 1., 1., 1., 0., 1., 0., 1., 1., 1., 0., 1., 0., 1., 1., 0.,\n",
       "       0., 1., 1., 0., 0., 0., 0., 0., 1., 0., 1., 0., 1., 1., 0., 0., 1.,\n",
       "       1., 0., 1., 1., 0., 0., 0., 0., 0., 0., 0., 0., 0., 0., 0., 0., 1.,\n",
       "       0., 1., 0., 0., 1., 0., 1., 1., 0., 1., 0., 1., 0., 0., 0., 0., 0.,\n",
       "       0., 0., 0., 0., 0., 1., 1., 1., 1., 0., 0., 0., 1., 1., 0., 0., 1.,\n",
       "       0., 0., 0., 0., 0., 0., 0., 0., 0., 1., 1., 0., 0., 0., 1., 0., 1.,\n",
       "       0., 1., 0., 0., 1., 0., 1., 1., 1., 0., 0., 1., 0., 0., 0., 0., 0.,\n",
       "       0., 0., 0., 0., 0., 0., 0., 0., 1., 0., 1., 1., 0., 0., 0., 0., 1.,\n",
       "       0., 0., 0., 0., 0., 1., 0., 1., 0., 0., 0., 1., 0., 0., 1., 0., 0.,\n",
       "       1., 0., 0., 0., 1., 0., 0., 1., 1., 0.])"
      ]
     },
     "execution_count": 183,
     "metadata": {},
     "output_type": "execute_result"
    }
   ],
   "source": [
    "m3.predict(X_test)"
   ]
  },
  {
   "cell_type": "code",
   "execution_count": 184,
   "metadata": {},
   "outputs": [
    {
     "data": {
      "text/plain": [
       "0.7627627627627628"
      ]
     },
     "execution_count": 184,
     "metadata": {},
     "output_type": "execute_result"
    }
   ],
   "source": [
    "m3.score(X_test,y_test)"
   ]
  },
  {
   "cell_type": "markdown",
   "metadata": {},
   "source": [
    "# Using Neural Networks"
   ]
  },
  {
   "cell_type": "code",
   "execution_count": 19,
   "metadata": {},
   "outputs": [],
   "source": [
    "from keras.layers import *\n",
    "from keras.models import Model"
   ]
  },
  {
   "cell_type": "code",
   "execution_count": 25,
   "metadata": {},
   "outputs": [],
   "source": [
    "from sklearn.preprocessing import OneHotEncoder"
   ]
  },
  {
   "cell_type": "code",
   "execution_count": 56,
   "metadata": {},
   "outputs": [
    {
     "name": "stderr",
     "output_type": "stream",
     "text": [
      "c:\\users\\shivang\\appdata\\local\\programs\\python\\python37\\lib\\site-packages\\sklearn\\preprocessing\\_encoders.py:415: FutureWarning: The handling of integer data will change in version 0.22. Currently, the categories are determined based on the range [0, max(values)], while in the future they will be determined based on the unique values.\n",
      "If you want the future behaviour and silence this warning, you can specify \"categories='auto'\".\n",
      "In case you used a LabelEncoder before this OneHotEncoder to convert the categories to integers, then you can now use the OneHotEncoder directly.\n",
      "  warnings.warn(msg, FutureWarning)\n"
     ]
    }
   ],
   "source": [
    "ohe = OneHotEncoder()\n",
    "y_ = (y.values).reshape(-1,1)\n",
    "y_ohe = ohe.fit_transform(y_)\n",
    "X_ = X.values"
   ]
  },
  {
   "cell_type": "code",
   "execution_count": 68,
   "metadata": {},
   "outputs": [],
   "source": [
    "in_layer = Input(shape = [5])\n",
    "dense_1 = Dense(500 , activation = \"relu\")(in_layer)\n",
    "\n",
    "dense_2 = Dense(300 , activation = \"relu\")(dense_1)\n",
    "\n",
    "dense_3 = Dense(10 , activation = \"relu\")(dense_2)\n",
    "\n",
    "out2 = Dense(2 , activation = \"softmax\")(dense_3)"
   ]
  },
  {
   "cell_type": "code",
   "execution_count": 69,
   "metadata": {},
   "outputs": [],
   "source": [
    "model = Model(inputs = [in_layer], outputs = [out2])"
   ]
  },
  {
   "cell_type": "code",
   "execution_count": 70,
   "metadata": {},
   "outputs": [
    {
     "name": "stdout",
     "output_type": "stream",
     "text": [
      "_________________________________________________________________\n",
      "Layer (type)                 Output Shape              Param #   \n",
      "=================================================================\n",
      "input_6 (InputLayer)         (None, 5)                 0         \n",
      "_________________________________________________________________\n",
      "dense_24 (Dense)             (None, 500)               3000      \n",
      "_________________________________________________________________\n",
      "dense_25 (Dense)             (None, 300)               150300    \n",
      "_________________________________________________________________\n",
      "dense_26 (Dense)             (None, 10)                3010      \n",
      "_________________________________________________________________\n",
      "dense_27 (Dense)             (None, 2)                 22        \n",
      "=================================================================\n",
      "Total params: 156,332\n",
      "Trainable params: 156,332\n",
      "Non-trainable params: 0\n",
      "_________________________________________________________________\n"
     ]
    }
   ],
   "source": [
    "model.summary()"
   ]
  },
  {
   "cell_type": "code",
   "execution_count": 71,
   "metadata": {},
   "outputs": [
    {
     "name": "stdout",
     "output_type": "stream",
     "text": [
      "Epoch 1/100\n",
      "1009/1009 [==============================] - 1s 626us/step - loss: 0.7486 - acc: 0.5719\n",
      "Epoch 2/100\n",
      "1009/1009 [==============================] - 0s 138us/step - loss: 0.6552 - acc: 0.6303\n",
      "Epoch 3/100\n",
      "1009/1009 [==============================] - 0s 119us/step - loss: 0.6201 - acc: 0.6511\n",
      "Epoch 4/100\n",
      "1009/1009 [==============================] - 0s 128us/step - loss: 0.5759 - acc: 0.7027\n",
      "Epoch 5/100\n",
      "1009/1009 [==============================] - 0s 145us/step - loss: 0.5889 - acc: 0.7007\n",
      "Epoch 6/100\n",
      "1009/1009 [==============================] - 0s 116us/step - loss: 0.5973 - acc: 0.6967\n",
      "Epoch 7/100\n",
      "1009/1009 [==============================] - 0s 103us/step - loss: 0.5420 - acc: 0.7195\n",
      "Epoch 8/100\n",
      "1009/1009 [==============================] - 0s 100us/step - loss: 0.5760 - acc: 0.7146\n",
      "Epoch 9/100\n",
      "1009/1009 [==============================] - 0s 101us/step - loss: 0.5536 - acc: 0.7433\n",
      "Epoch 10/100\n",
      "1009/1009 [==============================] - 0s 94us/step - loss: 0.4983 - acc: 0.7810\n",
      "Epoch 11/100\n",
      "1009/1009 [==============================] - 0s 108us/step - loss: 0.5187 - acc: 0.7483\n",
      "Epoch 12/100\n",
      "1009/1009 [==============================] - 0s 103us/step - loss: 0.5048 - acc: 0.7750\n",
      "Epoch 13/100\n",
      "1009/1009 [==============================] - 0s 110us/step - loss: 0.5074 - acc: 0.7701\n",
      "Epoch 14/100\n",
      "1009/1009 [==============================] - 0s 108us/step - loss: 0.4810 - acc: 0.7929\n",
      "Epoch 15/100\n",
      "1009/1009 [==============================] - 0s 117us/step - loss: 0.4776 - acc: 0.7869\n",
      "Epoch 16/100\n",
      "1009/1009 [==============================] - 0s 96us/step - loss: 0.5516 - acc: 0.7275\n",
      "Epoch 17/100\n",
      "1009/1009 [==============================] - 0s 116us/step - loss: 0.5144 - acc: 0.7621\n",
      "Epoch 18/100\n",
      "1009/1009 [==============================] - 0s 112us/step - loss: 0.5275 - acc: 0.7542\n",
      "Epoch 19/100\n",
      "1009/1009 [==============================] - 0s 114us/step - loss: 0.4789 - acc: 0.7919\n",
      "Epoch 20/100\n",
      "1009/1009 [==============================] - 0s 122us/step - loss: 0.4690 - acc: 0.7939\n",
      "Epoch 21/100\n",
      "1009/1009 [==============================] - 0s 104us/step - loss: 0.4641 - acc: 0.7909\n",
      "Epoch 22/100\n",
      "1009/1009 [==============================] - 0s 103us/step - loss: 0.4731 - acc: 0.7988\n",
      "Epoch 23/100\n",
      "1009/1009 [==============================] - 0s 98us/step - loss: 0.4615 - acc: 0.7978\n",
      "Epoch 24/100\n",
      "1009/1009 [==============================] - 0s 95us/step - loss: 0.4577 - acc: 0.7958\n",
      "Epoch 25/100\n",
      "1009/1009 [==============================] - 0s 100us/step - loss: 0.4564 - acc: 0.8057\n",
      "Epoch 26/100\n",
      "1009/1009 [==============================] - 0s 99us/step - loss: 0.4635 - acc: 0.7939\n",
      "Epoch 27/100\n",
      "1009/1009 [==============================] - 0s 93us/step - loss: 0.4891 - acc: 0.7839\n",
      "Epoch 28/100\n",
      "1009/1009 [==============================] - 0s 109us/step - loss: 0.4525 - acc: 0.7968\n",
      "Epoch 29/100\n",
      "1009/1009 [==============================] - 0s 95us/step - loss: 0.4576 - acc: 0.8008\n",
      "Epoch 30/100\n",
      "1009/1009 [==============================] - 0s 96us/step - loss: 0.4845 - acc: 0.7879\n",
      "Epoch 31/100\n",
      "1009/1009 [==============================] - 0s 89us/step - loss: 0.4609 - acc: 0.8008\n",
      "Epoch 32/100\n",
      "1009/1009 [==============================] - 0s 105us/step - loss: 0.4639 - acc: 0.7958\n",
      "Epoch 33/100\n",
      "1009/1009 [==============================] - 0s 96us/step - loss: 0.4580 - acc: 0.7948\n",
      "Epoch 34/100\n",
      "1009/1009 [==============================] - 0s 87us/step - loss: 0.4520 - acc: 0.7988\n",
      "Epoch 35/100\n",
      "1009/1009 [==============================] - 0s 93us/step - loss: 0.4515 - acc: 0.7998\n",
      "Epoch 36/100\n",
      "1009/1009 [==============================] - 0s 89us/step - loss: 0.4935 - acc: 0.7770\n",
      "Epoch 37/100\n",
      "1009/1009 [==============================] - 0s 73us/step - loss: 0.5020 - acc: 0.7730\n",
      "Epoch 38/100\n",
      "1009/1009 [==============================] - 0s 93us/step - loss: 0.4462 - acc: 0.8048\n",
      "Epoch 39/100\n",
      "1009/1009 [==============================] - 0s 88us/step - loss: 0.4428 - acc: 0.8067\n",
      "Epoch 40/100\n",
      "1009/1009 [==============================] - 0s 89us/step - loss: 0.4439 - acc: 0.8057\n",
      "Epoch 41/100\n",
      "1009/1009 [==============================] - 0s 98us/step - loss: 0.4420 - acc: 0.8077\n",
      "Epoch 42/100\n",
      "1009/1009 [==============================] - 0s 86us/step - loss: 0.4397 - acc: 0.8038\n",
      "Epoch 43/100\n",
      "1009/1009 [==============================] - 0s 89us/step - loss: 0.4412 - acc: 0.8048\n",
      "Epoch 44/100\n",
      "1009/1009 [==============================] - 0s 93us/step - loss: 0.4407 - acc: 0.8087\n",
      "Epoch 45/100\n",
      "1009/1009 [==============================] - 0s 92us/step - loss: 0.4414 - acc: 0.7988\n",
      "Epoch 46/100\n",
      "1009/1009 [==============================] - 0s 89us/step - loss: 0.4493 - acc: 0.7998\n",
      "Epoch 47/100\n",
      "1009/1009 [==============================] - 0s 98us/step - loss: 0.4544 - acc: 0.8067\n",
      "Epoch 48/100\n",
      "1009/1009 [==============================] - 0s 88us/step - loss: 0.4741 - acc: 0.7820\n",
      "Epoch 49/100\n",
      "1009/1009 [==============================] - 0s 87us/step - loss: 0.4467 - acc: 0.7998\n",
      "Epoch 50/100\n",
      "1009/1009 [==============================] - 0s 85us/step - loss: 0.4417 - acc: 0.8077\n",
      "Epoch 51/100\n",
      "1009/1009 [==============================] - 0s 76us/step - loss: 0.4559 - acc: 0.8038\n",
      "Epoch 52/100\n",
      "1009/1009 [==============================] - 0s 85us/step - loss: 0.4462 - acc: 0.8067\n",
      "Epoch 53/100\n",
      "1009/1009 [==============================] - 0s 79us/step - loss: 0.4490 - acc: 0.8067\n",
      "Epoch 54/100\n",
      "1009/1009 [==============================] - 0s 94us/step - loss: 0.4442 - acc: 0.7968\n",
      "Epoch 55/100\n",
      "1009/1009 [==============================] - 0s 97us/step - loss: 0.4403 - acc: 0.8048\n",
      "Epoch 56/100\n",
      "1009/1009 [==============================] - 0s 88us/step - loss: 0.4370 - acc: 0.8018\n",
      "Epoch 57/100\n",
      "1009/1009 [==============================] - 0s 88us/step - loss: 0.4389 - acc: 0.8008\n",
      "Epoch 58/100\n",
      "1009/1009 [==============================] - 0s 95us/step - loss: 0.4389 - acc: 0.8028\n",
      "Epoch 59/100\n",
      "1009/1009 [==============================] - 0s 100us/step - loss: 0.4450 - acc: 0.8107\n",
      "Epoch 60/100\n",
      "1009/1009 [==============================] - 0s 106us/step - loss: 0.4478 - acc: 0.7968\n",
      "Epoch 61/100\n",
      "1009/1009 [==============================] - 0s 98us/step - loss: 0.4387 - acc: 0.8067\n",
      "Epoch 62/100\n",
      "1009/1009 [==============================] - 0s 108us/step - loss: 0.4358 - acc: 0.8097\n",
      "Epoch 63/100\n",
      "1009/1009 [==============================] - 0s 94us/step - loss: 0.4300 - acc: 0.8117\n",
      "Epoch 64/100\n",
      "1009/1009 [==============================] - 0s 110us/step - loss: 0.4395 - acc: 0.8117\n",
      "Epoch 65/100\n",
      "1009/1009 [==============================] - 0s 106us/step - loss: 0.4344 - acc: 0.8048\n",
      "Epoch 66/100\n",
      "1009/1009 [==============================] - 0s 97us/step - loss: 0.4248 - acc: 0.8097\n",
      "Epoch 67/100\n",
      "1009/1009 [==============================] - 0s 85us/step - loss: 0.4281 - acc: 0.8117\n",
      "Epoch 68/100\n",
      "1009/1009 [==============================] - 0s 90us/step - loss: 0.4531 - acc: 0.7988\n",
      "Epoch 69/100\n",
      "1009/1009 [==============================] - 0s 86us/step - loss: 0.4374 - acc: 0.8117\n",
      "Epoch 70/100\n",
      "1009/1009 [==============================] - 0s 96us/step - loss: 0.4344 - acc: 0.8048\n",
      "Epoch 71/100\n",
      "1009/1009 [==============================] - 0s 89us/step - loss: 0.4405 - acc: 0.8038\n",
      "Epoch 72/100\n",
      "1009/1009 [==============================] - 0s 100us/step - loss: 0.4412 - acc: 0.8057\n",
      "Epoch 73/100\n",
      "1009/1009 [==============================] - 0s 99us/step - loss: 0.4251 - acc: 0.8107\n",
      "Epoch 74/100\n",
      "1009/1009 [==============================] - 0s 92us/step - loss: 0.4434 - acc: 0.8018\n",
      "Epoch 75/100\n",
      "1009/1009 [==============================] - 0s 99us/step - loss: 0.4241 - acc: 0.8097\n",
      "Epoch 76/100\n",
      "1009/1009 [==============================] - 0s 78us/step - loss: 0.4327 - acc: 0.8097\n",
      "Epoch 77/100\n",
      "1009/1009 [==============================] - 0s 80us/step - loss: 0.4336 - acc: 0.8147\n",
      "Epoch 78/100\n",
      "1009/1009 [==============================] - 0s 85us/step - loss: 0.4390 - acc: 0.8067\n",
      "Epoch 79/100\n",
      "1009/1009 [==============================] - 0s 80us/step - loss: 0.4176 - acc: 0.8167\n",
      "Epoch 80/100\n",
      "1009/1009 [==============================] - 0s 76us/step - loss: 0.4234 - acc: 0.8077\n",
      "Epoch 81/100\n",
      "1009/1009 [==============================] - 0s 80us/step - loss: 0.4186 - acc: 0.8137\n",
      "Epoch 82/100\n"
     ]
    },
    {
     "name": "stdout",
     "output_type": "stream",
     "text": [
      "1009/1009 [==============================] - 0s 81us/step - loss: 0.4189 - acc: 0.8097\n",
      "Epoch 83/100\n",
      "1009/1009 [==============================] - 0s 75us/step - loss: 0.4317 - acc: 0.7988\n",
      "Epoch 84/100\n",
      "1009/1009 [==============================] - 0s 97us/step - loss: 0.4238 - acc: 0.8117\n",
      "Epoch 85/100\n",
      "1009/1009 [==============================] - 0s 96us/step - loss: 0.4248 - acc: 0.8038\n",
      "Epoch 86/100\n",
      "1009/1009 [==============================] - 0s 102us/step - loss: 0.4347 - acc: 0.8038\n",
      "Epoch 87/100\n",
      "1009/1009 [==============================] - 0s 81us/step - loss: 0.4207 - acc: 0.8057\n",
      "Epoch 88/100\n",
      "1009/1009 [==============================] - 0s 84us/step - loss: 0.4215 - acc: 0.8127\n",
      "Epoch 89/100\n",
      "1009/1009 [==============================] - 0s 97us/step - loss: 0.4367 - acc: 0.8028\n",
      "Epoch 90/100\n",
      "1009/1009 [==============================] - 0s 103us/step - loss: 0.4373 - acc: 0.8087\n",
      "Epoch 91/100\n",
      "1009/1009 [==============================] - 0s 89us/step - loss: 0.4255 - acc: 0.8167\n",
      "Epoch 92/100\n",
      "1009/1009 [==============================] - 0s 101us/step - loss: 0.4258 - acc: 0.8048\n",
      "Epoch 93/100\n",
      "1009/1009 [==============================] - 0s 86us/step - loss: 0.4347 - acc: 0.8127\n",
      "Epoch 94/100\n",
      "1009/1009 [==============================] - 0s 91us/step - loss: 0.4649 - acc: 0.7978\n",
      "Epoch 95/100\n",
      "1009/1009 [==============================] - 0s 100us/step - loss: 0.4233 - acc: 0.8157\n",
      "Epoch 96/100\n",
      "1009/1009 [==============================] - 0s 92us/step - loss: 0.4187 - acc: 0.8157\n",
      "Epoch 97/100\n",
      "1009/1009 [==============================] - 0s 90us/step - loss: 0.4189 - acc: 0.8196\n",
      "Epoch 98/100\n",
      "1009/1009 [==============================] - 0s 96us/step - loss: 0.4222 - acc: 0.8127\n",
      "Epoch 99/100\n",
      "1009/1009 [==============================] - 0s 92us/step - loss: 0.4180 - acc: 0.8087\n",
      "Epoch 100/100\n",
      "1009/1009 [==============================] - 0s 97us/step - loss: 0.4187 - acc: 0.8157\n"
     ]
    }
   ],
   "source": [
    "model.compile(optimizer = \"adam\" , loss = \"categorical_crossentropy\" , metrics = [\"acc\"])\n",
    "hist = model.fit(X_ , y_ohe , epochs = 100 , batch_size = 100)"
   ]
  },
  {
   "cell_type": "code",
   "execution_count": null,
   "metadata": {},
   "outputs": [],
   "source": []
  },
  {
   "cell_type": "code",
   "execution_count": null,
   "metadata": {},
   "outputs": [],
   "source": []
  }
 ],
 "metadata": {
  "kernelspec": {
   "display_name": "Python 3",
   "language": "python",
   "name": "python3"
  },
  "language_info": {
   "codemirror_mode": {
    "name": "ipython",
    "version": 3
   },
   "file_extension": ".py",
   "mimetype": "text/x-python",
   "name": "python",
   "nbconvert_exporter": "python",
   "pygments_lexer": "ipython3",
   "version": "3.7.3"
  }
 },
 "nbformat": 4,
 "nbformat_minor": 2
}
